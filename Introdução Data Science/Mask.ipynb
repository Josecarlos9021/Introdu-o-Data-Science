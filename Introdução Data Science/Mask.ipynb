{
 "cells": [
  {
   "cell_type": "code",
   "execution_count": 25,
   "id": "f1b78935-aa4d-45d6-a1ca-0d3baa007950",
   "metadata": {},
   "outputs": [],
   "source": [
    "import numpy as np"
   ]
  },
  {
   "cell_type": "code",
   "execution_count": 26,
   "id": "58d9a641-cb5c-4d04-a960-4bd6c8deb2e8",
   "metadata": {},
   "outputs": [],
   "source": [
    "is_covid_positive = np.array(['Yes', 'No', 'No', 'Yes', 'Yes', 'No'])"
   ]
  },
  {
   "cell_type": "code",
   "execution_count": 27,
   "id": "417a1702-393c-489c-a51b-48d24fd227fc",
   "metadata": {},
   "outputs": [],
   "source": [
    "mask = (is_covid_positive == 'Yes')"
   ]
  },
  {
   "cell_type": "code",
   "execution_count": 28,
   "id": "930e6cab-e5e0-4188-87ef-f008cf5c6fad",
   "metadata": {},
   "outputs": [],
   "source": [
    "(is_covid_positive[mask]) = 'C19'"
   ]
  },
  {
   "cell_type": "code",
   "execution_count": 42,
   "id": "c63c4a23-0081-4bc5-97eb-fead2207a62a",
   "metadata": {},
   "outputs": [
    {
     "name": "stdout",
     "output_type": "stream",
     "text": [
      "['C19' 'No' 'No' 'C19' 'C19' 'No']\n"
     ]
    }
   ],
   "source": [
    "print(is_covid_positive)"
   ]
  },
  {
   "cell_type": "code",
   "execution_count": 36,
   "id": "f6af9618-5d09-4a86-bcb5-079914c0ded2",
   "metadata": {},
   "outputs": [],
   "source": [
    "notas = np.array([4.9, 6.5, 3.2, 6.7])"
   ]
  },
  {
   "cell_type": "code",
   "execution_count": 37,
   "id": "71e2bab5-bfc9-45d6-a274-a806f1fc11df",
   "metadata": {},
   "outputs": [],
   "source": [
    "aprovados = notas >= 5"
   ]
  },
  {
   "cell_type": "code",
   "execution_count": 40,
   "id": "33854f1c-61dd-4d32-965e-dbb20e483ba1",
   "metadata": {},
   "outputs": [
    {
     "name": "stdout",
     "output_type": "stream",
     "text": [
      "[ True  True]\n"
     ]
    }
   ],
   "source": [
    "print(aprovados[aprovados])"
   ]
  }
 ],
 "metadata": {
  "kernelspec": {
   "display_name": "Python 3 (ipykernel)",
   "language": "python",
   "name": "python3"
  },
  "language_info": {
   "codemirror_mode": {
    "name": "ipython",
    "version": 3
   },
   "file_extension": ".py",
   "mimetype": "text/x-python",
   "name": "python",
   "nbconvert_exporter": "python",
   "pygments_lexer": "ipython3",
   "version": "3.11.5"
  }
 },
 "nbformat": 4,
 "nbformat_minor": 5
}
