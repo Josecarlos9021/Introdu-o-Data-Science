{
 "cells": [
  {
   "cell_type": "code",
   "execution_count": 5,
   "id": "772301cb-60c2-40ca-a28b-27cd3ac2cea1",
   "metadata": {},
   "outputs": [],
   "source": [
    "import numpy as np"
   ]
  },
  {
   "cell_type": "code",
   "execution_count": 6,
   "id": "abf84ec7-8a24-4179-a7f4-52f826d46fa4",
   "metadata": {},
   "outputs": [],
   "source": [
    "lista = [1, 2, 3, 4, 5, 6]\n",
    "\n",
    "array = np.array(lista)"
   ]
  },
  {
   "cell_type": "code",
   "execution_count": 7,
   "id": "6c930802-6027-43bb-8e3f-68817ef65e82",
   "metadata": {},
   "outputs": [
    {
     "name": "stdout",
     "output_type": "stream",
     "text": [
      "<class 'list'>\n",
      "<class 'numpy.ndarray'>\n"
     ]
    }
   ],
   "source": [
    "print(type(lista))\n",
    "print(type(array))"
   ]
  },
  {
   "cell_type": "code",
   "execution_count": 8,
   "id": "7bbe754e-0d4a-4ef7-9ed1-da0f9b09870b",
   "metadata": {},
   "outputs": [
    {
     "name": "stdout",
     "output_type": "stream",
     "text": [
      "[0. 0. 0. 0. 0. 0. 0. 0. 0. 0.]\n"
     ]
    }
   ],
   "source": [
    "arr_zeros = np.zeros(10)\n",
    "\n",
    "print(arr_zeros)"
   ]
  },
  {
   "cell_type": "code",
   "execution_count": 9,
   "id": "09caa438-443f-48d9-85fa-911f4ef5734b",
   "metadata": {},
   "outputs": [
    {
     "name": "stdout",
     "output_type": "stream",
     "text": [
      "[9 2 3 4 5 6]\n"
     ]
    }
   ],
   "source": [
    "array[0] = 9\n",
    "print(array)"
   ]
  },
  {
   "cell_type": "code",
   "execution_count": 10,
   "id": "6337b421-3493-4bb3-96ca-f2144644ee74",
   "metadata": {},
   "outputs": [
    {
     "name": "stdout",
     "output_type": "stream",
     "text": [
      "[[0. 0. 0.]\n",
      " [0. 0. 0.]\n",
      " [0. 0. 0.]\n",
      " [0. 0. 0.]\n",
      " [0. 0. 0.]]\n"
     ]
    }
   ],
   "source": [
    "# Matrizes\n",
    "matriz_zeros = np.zeros((5, 3))\n",
    "print(matriz_zeros)"
   ]
  },
  {
   "cell_type": "code",
   "execution_count": 11,
   "id": "766c58a1-8fa7-4469-a43f-54b0da5a2f43",
   "metadata": {},
   "outputs": [],
   "source": [
    "# Notas de alunos\n",
    "lista_de_notas = [9.8, 5.6, 7.8, 9.1, 6.5]\n",
    "\n",
    "notas = np.array(lista_de_notas)"
   ]
  },
  {
   "cell_type": "code",
   "execution_count": 12,
   "id": "4c02bb2c-628e-481a-8188-65c53cf52c28",
   "metadata": {},
   "outputs": [
    {
     "name": "stdout",
     "output_type": "stream",
     "text": [
      "A nota máxima é: 9.8\n",
      "A nota mínima é: 5.6\n",
      "Desvio padrão é: 1.5628179676469045\n",
      "A média é: 7.76\n",
      "A posição do menor é: 1\n"
     ]
    },
    {
     "ename": "AttributeError",
     "evalue": "'numpy.ndarray' object has no attribute 'median'",
     "output_type": "error",
     "traceback": [
      "\u001b[1;31m---------------------------------------------------------------------------\u001b[0m",
      "\u001b[1;31mAttributeError\u001b[0m                            Traceback (most recent call last)",
      "Cell \u001b[1;32mIn[12], line 6\u001b[0m\n\u001b[0;32m      4\u001b[0m \u001b[38;5;28mprint\u001b[39m(\u001b[38;5;124m'\u001b[39m\u001b[38;5;124mA média é:\u001b[39m\u001b[38;5;124m'\u001b[39m, notas\u001b[38;5;241m.\u001b[39mmean())\n\u001b[0;32m      5\u001b[0m \u001b[38;5;28mprint\u001b[39m(\u001b[38;5;124m'\u001b[39m\u001b[38;5;124mA posição do menor é:\u001b[39m\u001b[38;5;124m'\u001b[39m, notas\u001b[38;5;241m.\u001b[39margmin())\n\u001b[1;32m----> 6\u001b[0m \u001b[38;5;28mprint\u001b[39m(\u001b[38;5;124m'\u001b[39m\u001b[38;5;124mA mediana é:\u001b[39m\u001b[38;5;124m'\u001b[39m, \u001b[43mnotas\u001b[49m\u001b[38;5;241;43m.\u001b[39;49m\u001b[43mmedian\u001b[49m())\n",
      "\u001b[1;31mAttributeError\u001b[0m: 'numpy.ndarray' object has no attribute 'median'"
     ]
    }
   ],
   "source": [
    "print('A nota máxima é:', notas.max())\n",
    "print('A nota mínima é:', notas.min())\n",
    "print('Desvio padrão é:', notas.std())\n",
    "print('A média é:', notas.mean())\n",
    "print('A posição do menor é:', notas.argmin())"
   ]
  },
  {
   "cell_type": "code",
   "execution_count": 28,
   "id": "8ba713c8-2987-43a6-bd48-6c0399f1bc14",
   "metadata": {},
   "outputs": [
    {
     "name": "stdin",
     "output_type": "stream",
     "text": [
      "Digite a 1° nota:  4\n",
      "Digite a 2° nota:  6\n",
      "Digite a 3° nota:  10\n"
     ]
    },
    {
     "name": "stdout",
     "output_type": "stream",
     "text": [
      "A média é 6.666666666666667\n",
      "O desvio padrão é 2.494438257849294\n"
     ]
    }
   ],
   "source": [
    "notas = np.array([])\n",
    "\n",
    "for c in range(1, 4):\n",
    "     aluno = float(input('Digite a {}° nota: '.format(c)))\n",
    "     notas = np.append(notas, aluno)\n",
    "\n",
    "print('A média é {}'.format(notas.mean()))\n",
    "print('O desvio padrão é {}'.format(notas.std()))"
   ]
  }
 ],
 "metadata": {
  "kernelspec": {
   "display_name": "Python 3 (ipykernel)",
   "language": "python",
   "name": "python3"
  },
  "language_info": {
   "codemirror_mode": {
    "name": "ipython",
    "version": 3
   },
   "file_extension": ".py",
   "mimetype": "text/x-python",
   "name": "python",
   "nbconvert_exporter": "python",
   "pygments_lexer": "ipython3",
   "version": "3.11.5"
  }
 },
 "nbformat": 4,
 "nbformat_minor": 5
}
