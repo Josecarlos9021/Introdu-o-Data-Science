{
 "cells": [
  {
   "cell_type": "code",
   "execution_count": 2,
   "id": "b425c1de-f797-4fb8-a2d9-4e25f75b505c",
   "metadata": {},
   "outputs": [],
   "source": [
    "import pandas as pd"
   ]
  },
  {
   "cell_type": "code",
   "execution_count": 5,
   "id": "3b728e4e-8a60-48b6-9433-59ded08b2b02",
   "metadata": {},
   "outputs": [],
   "source": [
    "# Cria um dicionário com autores, preços e títulos\n",
    "dictionary = {'Autores': ['Rick Riordan', 'J.R.R. Tolkien', 'Rick Riordan', 'Machado de Assís'],\n",
    "              'Títulos': ['O ladrão de Raios', 'A Sociedade do Anel', 'Mar de Monstros', 'Memórias Postumas de Brás Cubas'],\n",
    "              'Preços': [41.2, 35.7, 39.5, 40.5]}"
   ]
  },
  {
   "cell_type": "code",
   "execution_count": 6,
   "id": "3c105db6-b701-4404-b4f1-d24fabc1371d",
   "metadata": {},
   "outputs": [],
   "source": [
    "# DataFrame\n",
    "df = pd.DataFrame(dictionary)"
   ]
  },
  {
   "cell_type": "code",
   "execution_count": 14,
   "id": "df40580f-7bc5-422c-97ba-4cf10a7ac8cc",
   "metadata": {},
   "outputs": [
    {
     "data": {
      "text/plain": [
       "'J.R.R. Tolkien'"
      ]
     },
     "execution_count": 14,
     "metadata": {},
     "output_type": "execute_result"
    }
   ],
   "source": [
    "df['Autores'][1]"
   ]
  },
  {
   "cell_type": "code",
   "execution_count": 15,
   "id": "8b4f2d97-e955-4725-8cbb-d75ab9ade8c2",
   "metadata": {},
   "outputs": [
    {
     "data": {
      "text/plain": [
       "0        Rick Riordan\n",
       "1      J.R.R. Tolkien\n",
       "2        Rick Riordan\n",
       "3    Machado de Assís\n",
       "Name: Autores, dtype: object"
      ]
     },
     "execution_count": 15,
     "metadata": {},
     "output_type": "execute_result"
    }
   ],
   "source": [
    "df['Autores']"
   ]
  },
  {
   "cell_type": "code",
   "execution_count": 18,
   "id": "03843788-b0ce-42bd-a0d9-34abcf1f8772",
   "metadata": {},
   "outputs": [
    {
     "data": {
      "text/plain": [
       "39.225"
      ]
     },
     "execution_count": 18,
     "metadata": {},
     "output_type": "execute_result"
    }
   ],
   "source": [
    "# Média dos preços\n",
    "df['Preços'].mean()"
   ]
  },
  {
   "cell_type": "code",
   "execution_count": 20,
   "id": "d5054559-d937-4994-b45b-d65e96487e0b",
   "metadata": {},
   "outputs": [],
   "source": [
    "mascara = (df['Autores'] == 'Rick Riordan')"
   ]
  },
  {
   "cell_type": "code",
   "execution_count": 22,
   "id": "4f3c1b71-35aa-4536-98c8-a605beb75290",
   "metadata": {},
   "outputs": [
    {
     "data": {
      "text/html": [
       "<div>\n",
       "<style scoped>\n",
       "    .dataframe tbody tr th:only-of-type {\n",
       "        vertical-align: middle;\n",
       "    }\n",
       "\n",
       "    .dataframe tbody tr th {\n",
       "        vertical-align: top;\n",
       "    }\n",
       "\n",
       "    .dataframe thead th {\n",
       "        text-align: right;\n",
       "    }\n",
       "</style>\n",
       "<table border=\"1\" class=\"dataframe\">\n",
       "  <thead>\n",
       "    <tr style=\"text-align: right;\">\n",
       "      <th></th>\n",
       "      <th>Autores</th>\n",
       "      <th>Títulos</th>\n",
       "      <th>Preços</th>\n",
       "    </tr>\n",
       "  </thead>\n",
       "  <tbody>\n",
       "    <tr>\n",
       "      <th>0</th>\n",
       "      <td>Rick Riordan</td>\n",
       "      <td>O ladrão de Raios</td>\n",
       "      <td>41.2</td>\n",
       "    </tr>\n",
       "    <tr>\n",
       "      <th>2</th>\n",
       "      <td>Rick Riordan</td>\n",
       "      <td>Mar de Monstros</td>\n",
       "      <td>39.5</td>\n",
       "    </tr>\n",
       "  </tbody>\n",
       "</table>\n",
       "</div>"
      ],
      "text/plain": [
       "        Autores            Títulos  Preços\n",
       "0  Rick Riordan  O ladrão de Raios    41.2\n",
       "2  Rick Riordan    Mar de Monstros    39.5"
      ]
     },
     "execution_count": 22,
     "metadata": {},
     "output_type": "execute_result"
    }
   ],
   "source": [
    "df[mascara]"
   ]
  },
  {
   "cell_type": "code",
   "execution_count": 56,
   "id": "7cae98f9-d382-49e9-9d1e-bd43fe32068a",
   "metadata": {},
   "outputs": [],
   "source": [
    "novo = pd.DataFrame({'Autores': 'Rick Riordan', 'Títulos': 'A Maldiça do Titã', 'Preços': [40.20]})\n",
    "\n",
    "df = pd.concat([df, novo], ignore_index = True)"
   ]
  },
  {
   "cell_type": "code",
   "execution_count": 57,
   "id": "a51ca53d-c1a4-42e4-b4c8-7f809a9147f3",
   "metadata": {},
   "outputs": [],
   "source": [
    "mascara_correcao = df['Títulos'] == 'A Maldiça do Titã'"
   ]
  },
  {
   "cell_type": "code",
   "execution_count": 58,
   "id": "ba7f60a9-c2de-4e7a-903c-0cc39322006f",
   "metadata": {},
   "outputs": [],
   "source": [
    "df.loc[mascara_correcao, 'Títulos'] = 'A Maldição do Titã'"
   ]
  },
  {
   "cell_type": "code",
   "execution_count": 59,
   "id": "67cdd3cb-f8e9-4758-94d9-66ed5f11cee4",
   "metadata": {},
   "outputs": [
    {
     "data": {
      "text/html": [
       "<div>\n",
       "<style scoped>\n",
       "    .dataframe tbody tr th:only-of-type {\n",
       "        vertical-align: middle;\n",
       "    }\n",
       "\n",
       "    .dataframe tbody tr th {\n",
       "        vertical-align: top;\n",
       "    }\n",
       "\n",
       "    .dataframe thead th {\n",
       "        text-align: right;\n",
       "    }\n",
       "</style>\n",
       "<table border=\"1\" class=\"dataframe\">\n",
       "  <thead>\n",
       "    <tr style=\"text-align: right;\">\n",
       "      <th></th>\n",
       "      <th>Autores</th>\n",
       "      <th>Títulos</th>\n",
       "      <th>Preços</th>\n",
       "    </tr>\n",
       "  </thead>\n",
       "  <tbody>\n",
       "    <tr>\n",
       "      <th>0</th>\n",
       "      <td>Rick Riordan</td>\n",
       "      <td>A Maldição do Titã</td>\n",
       "      <td>40.2</td>\n",
       "    </tr>\n",
       "    <tr>\n",
       "      <th>1</th>\n",
       "      <td>Rick Riordan</td>\n",
       "      <td>A Maldição do Titã</td>\n",
       "      <td>40.2</td>\n",
       "    </tr>\n",
       "  </tbody>\n",
       "</table>\n",
       "</div>"
      ],
      "text/plain": [
       "        Autores             Títulos  Preços\n",
       "0  Rick Riordan  A Maldição do Titã    40.2\n",
       "1  Rick Riordan  A Maldição do Titã    40.2"
      ]
     },
     "execution_count": 59,
     "metadata": {},
     "output_type": "execute_result"
    }
   ],
   "source": [
    "df"
   ]
  }
 ],
 "metadata": {
  "kernelspec": {
   "display_name": "Python 3 (ipykernel)",
   "language": "python",
   "name": "python3"
  },
  "language_info": {
   "codemirror_mode": {
    "name": "ipython",
    "version": 3
   },
   "file_extension": ".py",
   "mimetype": "text/x-python",
   "name": "python",
   "nbconvert_exporter": "python",
   "pygments_lexer": "ipython3",
   "version": "3.11.5"
  }
 },
 "nbformat": 4,
 "nbformat_minor": 5
}
