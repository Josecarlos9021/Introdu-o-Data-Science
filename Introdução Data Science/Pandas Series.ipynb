{
 "cells": [
  {
   "cell_type": "code",
   "execution_count": 1,
   "id": "64e400fe-8b1f-4286-b596-fb9169bd75b5",
   "metadata": {},
   "outputs": [],
   "source": [
    "import pandas as pd"
   ]
  },
  {
   "cell_type": "code",
   "execution_count": 2,
   "id": "b93671b1-30be-4241-a778-c19555da73cd",
   "metadata": {},
   "outputs": [],
   "source": [
    "lista = [12, 23, 34, 45, 56, 67]\n",
    "\n",
    "serie_pandas = pd.Series(lista)"
   ]
  },
  {
   "cell_type": "code",
   "execution_count": 3,
   "id": "1056e0f3-d4e1-4c91-a15b-4913f4e68b99",
   "metadata": {},
   "outputs": [
    {
     "name": "stdout",
     "output_type": "stream",
     "text": [
      "0    12\n",
      "1    23\n",
      "2    34\n",
      "3    45\n",
      "4    56\n",
      "5    67\n",
      "dtype: int64\n"
     ]
    }
   ],
   "source": [
    "print(serie_pandas)"
   ]
  },
  {
   "cell_type": "code",
   "execution_count": 4,
   "id": "5b175599-4a78-4f07-8a21-b6db6a293110",
   "metadata": {},
   "outputs": [],
   "source": [
    "notas = {'Tiago': 8, 'Guilherme': 9.5, 'Juca': 6.2}"
   ]
  },
  {
   "cell_type": "code",
   "execution_count": 5,
   "id": "66265371-187f-47e8-b8b1-de4744d6cc82",
   "metadata": {},
   "outputs": [],
   "source": [
    "serie_notas = pd.Series(notas)"
   ]
  },
  {
   "cell_type": "code",
   "execution_count": 7,
   "id": "767bc228-2b2e-4f76-81a7-090c6e49255b",
   "metadata": {},
   "outputs": [
    {
     "name": "stdout",
     "output_type": "stream",
     "text": [
      "8.0\n"
     ]
    }
   ],
   "source": [
    "print(serie_notas['Tiago'])"
   ]
  },
  {
   "cell_type": "code",
   "execution_count": 15,
   "id": "3d55194d-a2e9-43da-89b1-0ac0bafe408f",
   "metadata": {},
   "outputs": [
    {
     "name": "stdout",
     "output_type": "stream",
     "text": [
      "A média das notas: 7.8999999999999995\n",
      "A nota que fica no meio termo entre elas: 8.0\n",
      "A descrição completa:\n",
      "count    3.000000\n",
      "mean     7.900000\n",
      "std      1.652271\n",
      "min      6.200000\n",
      "25%      7.100000\n",
      "50%      8.000000\n",
      "75%      8.750000\n",
      "max      9.500000\n",
      "dtype: float64\n"
     ]
    }
   ],
   "source": [
    "print('A média das notas:', serie_notas.mean())\n",
    "print('A nota que fica no meio termo entre elas:', serie_notas.median())\n",
    "print('A descrição completa:')\n",
    "print(serie_notas.describe())"
   ]
  }
 ],
 "metadata": {
  "kernelspec": {
   "display_name": "Python 3 (ipykernel)",
   "language": "python",
   "name": "python3"
  },
  "language_info": {
   "codemirror_mode": {
    "name": "ipython",
    "version": 3
   },
   "file_extension": ".py",
   "mimetype": "text/x-python",
   "name": "python",
   "nbconvert_exporter": "python",
   "pygments_lexer": "ipython3",
   "version": "3.11.5"
  }
 },
 "nbformat": 4,
 "nbformat_minor": 5
}
