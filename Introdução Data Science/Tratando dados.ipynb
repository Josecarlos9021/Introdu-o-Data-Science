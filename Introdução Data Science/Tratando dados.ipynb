{
 "cells": [
  {
   "cell_type": "code",
   "execution_count": 1,
   "id": "5f449369-9794-4ac8-abf2-c5656ccdf5fe",
   "metadata": {},
   "outputs": [],
   "source": [
    "import pandas as pd"
   ]
  },
  {
   "cell_type": "code",
   "execution_count": 1,
   "id": "3b3465b8-1af1-45dc-958d-dfb76a8da82b",
   "metadata": {},
   "outputs": [
    {
     "name": "stdout",
     "output_type": "stream",
     "text": [
      "Collecting openpyxl\n",
      "  Downloading openpyxl-3.1.4-py2.py3-none-any.whl.metadata (2.5 kB)\n",
      "Collecting et-xmlfile (from openpyxl)\n",
      "  Downloading et_xmlfile-1.1.0-py3-none-any.whl.metadata (1.8 kB)\n",
      "Downloading openpyxl-3.1.4-py2.py3-none-any.whl (251 kB)\n",
      "   ---------------------------------------- 0.0/251.4 kB ? eta -:--:--\n",
      "   - -------------------------------------- 10.2/251.4 kB ? eta -:--:--\n",
      "   ---- ---------------------------------- 30.7/251.4 kB 660.6 kB/s eta 0:00:01\n",
      "   ----------------- ---------------------- 112.6/251.4 kB 1.3 MB/s eta 0:00:01\n",
      "   ---------------------------------------  245.8/251.4 kB 2.2 MB/s eta 0:00:01\n",
      "   ---------------------------------------- 251.4/251.4 kB 1.9 MB/s eta 0:00:00\n",
      "Downloading et_xmlfile-1.1.0-py3-none-any.whl (4.7 kB)\n",
      "Installing collected packages: et-xmlfile, openpyxl\n",
      "Successfully installed et-xmlfile-1.1.0 openpyxl-3.1.4\n"
     ]
    }
   ],
   "source": [
    "!pip install openpyxl"
   ]
  },
  {
   "cell_type": "code",
   "execution_count": null,
   "id": "da74076c-e052-4801-a2e0-d55d13ca3bfd",
   "metadata": {},
   "outputs": [],
   "source": [
    "# Não é a planilha de dados oficial do curso (eles não colocaram pra download), mas eu conseguir uma semelhante para estudar.\n",
    "df = pd.read_excel('base de dados/taxis.xlsx')"
   ]
  },
  {
   "cell_type": "code",
   "execution_count": null,
   "id": "30ab89e2-79b8-477f-904b-5109117a796e",
   "metadata": {},
   "outputs": [],
   "source": [
    "auxiliar = df.loc[114420]"
   ]
  },
  {
   "cell_type": "code",
   "execution_count": null,
   "id": "8be94d08-7cf8-4fd6-a81e-722416675e19",
   "metadata": {},
   "outputs": [],
   "source": [
    "auxiliar"
   ]
  },
  {
   "cell_type": "code",
   "execution_count": 67,
   "id": "01a1047c-f162-4ce3-b8d4-82ca2cb33f09",
   "metadata": {},
   "outputs": [],
   "source": [
    "# Tratar a troca de nomes dos dados\n",
    "def limpa_preco(linha):\n",
    "    linha['Payment Type'] = linha['Payment Type'].replace(' ', '-')\n",
    "    linha['Payment Type'] = linha['Payment Type'].replace('Credit', 'Debit')"
   ]
  },
  {
   "cell_type": "code",
   "execution_count": 68,
   "id": "07588539-d308-467d-9d3e-4832391e47aa",
   "metadata": {},
   "outputs": [
    {
     "name": "stderr",
     "output_type": "stream",
     "text": [
      "C:\\Users\\J8495\\AppData\\Local\\Temp\\ipykernel_11176\\2703399989.py:2: SettingWithCopyWarning: \n",
      "A value is trying to be set on a copy of a slice from a DataFrame\n",
      "\n",
      "See the caveats in the documentation: https://pandas.pydata.org/pandas-docs/stable/user_guide/indexing.html#returning-a-view-versus-a-copy\n",
      "  linha['Payment Type'] = linha['Payment Type'].replace(' ', '-')\n",
      "C:\\Users\\J8495\\AppData\\Local\\Temp\\ipykernel_11176\\2703399989.py:3: SettingWithCopyWarning: \n",
      "A value is trying to be set on a copy of a slice from a DataFrame\n",
      "\n",
      "See the caveats in the documentation: https://pandas.pydata.org/pandas-docs/stable/user_guide/indexing.html#returning-a-view-versus-a-copy\n",
      "  linha['Payment Type'] = linha['Payment Type'].replace('Credit', 'Debit')\n"
     ]
    }
   ],
   "source": [
    "# Aplica a função todos\n",
    "df.apply(lambda x: limpa_credit(x), axis=1)"
   ]
  },
  {
   "cell_type": "code",
   "execution_count": null,
   "id": "ce46bc8d-cc60-4826-955c-9362f48a8e48",
   "metadata": {},
   "outputs": [],
   "source": [
    "# Aplica a mudança de aluguel mês para valor inteiro do imóvel\n",
    "def ajustar_alugueis(linha):\n",
    "    linha['City Service'] = linha['Company'].replace('.', '')\n",
    "    #Só vai fazer o ajuste do aluguel se o valor for menor que 10000 de aluguel\n",
    "    preco = int(linha['Company'])\n",
    "    if(preco < 10000):\n",
    "        preco *= 200\n",
    "    linha['Company'] = preco\n",
    "    return linha"
   ]
  },
  {
   "cell_type": "code",
   "execution_count": null,
   "id": "b582fa58-4b28-4a7b-a7c0-adb4bbbffb32",
   "metadata": {},
   "outputs": [],
   "source": [
    "ajusta_alugueis[auxiliar]"
   ]
  },
  {
   "cell_type": "code",
   "execution_count": null,
   "id": "7ed84f90-5873-43f5-806e-53d7a0600e1e",
   "metadata": {},
   "outputs": [],
   "source": [
    "# Aplica a função todos\n",
    "df.apply(lambda x: ajusta_alugueis(x), axis=1)"
   ]
  }
 ],
 "metadata": {
  "kernelspec": {
   "display_name": "Python 3 (ipykernel)",
   "language": "python",
   "name": "python3"
  },
  "language_info": {
   "codemirror_mode": {
    "name": "ipython",
    "version": 3
   },
   "file_extension": ".py",
   "mimetype": "text/x-python",
   "name": "python",
   "nbconvert_exporter": "python",
   "pygments_lexer": "ipython3",
   "version": "3.11.5"
  }
 },
 "nbformat": 4,
 "nbformat_minor": 5
}
